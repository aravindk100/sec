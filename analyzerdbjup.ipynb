{
 "cells": [
  {
   "cell_type": "code",
   "execution_count": 14,
   "metadata": {
    "collapsed": false
   },
   "outputs": [],
   "source": [
    "import pandas as pd\n",
    "import xlrd\n",
    "import dummy_thread\n",
    "import openpyxl\n",
    "import re\n",
    "import os\n",
    "from fuzzywuzzy import fuzz\n",
    "from fuzzywuzzy import process\n",
    "import logging\n",
    "import matplotlib.pyplot as plt\n",
    "from matplotlib.dates import date2num\n",
    "import datetime\n",
    "import sqlite3"
   ]
  },
  {
   "cell_type": "code",
   "execution_count": 2,
   "metadata": {
    "collapsed": true
   },
   "outputs": [],
   "source": [
    "%matplotlib inline"
   ]
  },
  {
   "cell_type": "code",
   "execution_count": 3,
   "metadata": {
    "collapsed": true
   },
   "outputs": [],
   "source": [
    "logger = logging.getLogger()\n",
    "logger.setLevel(logging.WARNING)\n",
    "logging.basicConfig(format='%(asctime)s - %(levelname)s - %(message)s')"
   ]
  },
  {
   "cell_type": "code",
   "execution_count": 4,
   "metadata": {
    "collapsed": true
   },
   "outputs": [],
   "source": [
    "conn = sqlite3.connect('secfinance.sqlite')\n",
    "curr = conn.cursor()"
   ]
  },
  {
   "cell_type": "code",
   "execution_count": 5,
   "metadata": {
    "collapsed": false
   },
   "outputs": [
    {
     "data": {
      "text/plain": [
       "<sqlite3.Cursor at 0x7370420>"
      ]
     },
     "execution_count": 5,
     "metadata": {},
     "output_type": "execute_result"
    }
   ],
   "source": [
    "curr.executescript('''\n",
    "\n",
    "DROP TABLE IF EXISTS company;\n",
    "DROP TABLE IF EXISTS valuetype;\n",
    "DROP TABLE IF EXISTS summary;\n",
    "DROP TABLE IF EXISTS dollardenomination;\n",
    "\n",
    "CREATE TABLE company (\n",
    "    id INTEGER NOT NULL PRIMARY KEY AUTOINCREMENT UNIQUE,\n",
    "    name TEXT UNIQUE\n",
    ");\n",
    "\n",
    "CREATE TABLE valuetype (\n",
    "    id INTEGER NOT NULL PRIMARY KEY AUTOINCREMENT UNIQUE,\n",
    "    name TEXT UNIQUE\n",
    ");\n",
    "\n",
    "CREATE TABLE dollardenomination (\n",
    "    id INTEGER NOT NULL PRIMARY KEY AUTOINCREMENT UNIQUE,\n",
    "    denomination integer);\n",
    "\n",
    "CREATE TABLE summary (\n",
    "    company_id INTEGER,\n",
    "    valuetype_id INTEGER,\n",
    "    date TEXT,\n",
    "    dollaramt INTEGER)\n",
    "''')"
   ]
  },
  {
   "cell_type": "code",
   "execution_count": 6,
   "metadata": {
    "collapsed": false
   },
   "outputs": [],
   "source": [
    "def xlparse(filepath,classname,datein):\n",
    "    wb = openpyxl.load_workbook(filepath)\n",
    "    sheetnames = wb.get_sheet_names() #getting list of all sheetnames\n",
    "\n",
    "    #section for dealing with sheet 1 which is consolidated statement of income\n",
    "    sheet = wb.get_sheet_by_name(sheetnames[1])\n",
    "    cola = [] #create new list to store all values in column A\n",
    "    colb = []\n",
    "    for cellobj in sheet.columns[0]: #iterate through all values where column0*header column is true..\n",
    "        cola.append(cellobj.value) #append them to list of columna so we can extract info out of it..\n",
    "\n",
    "    for cellobj in sheet.columns[1]: #iterate through all values in columnB and store in colb\n",
    "        colb.append(cellobj.value)\n",
    "\n",
    "    #extracting information on millions vs thousands from columnArowA\n",
    "    #format 'Consolidated Condensed Statements of Income - USD ($) shares in Millions, $ in Millions'\n",
    "\n",
    "    sharedeno = re.findall('shares in ([a-zA-Z]+)',cola[0])\n",
    "    dollardeno = re.findall('\\$ in ([a-zA-Z]+)',cola[0]) #note the use of special character '\\' to match for $ vs match at end of line..\n",
    "    if dollardeno[0] == 'Thousands':\n",
    "        doldeno = 1000\n",
    "    elif dollardeno[0] == 'Millions':\n",
    "        doldeno = 1000000\n",
    "    else:\n",
    "        logger.error('Unknown denomination for dollar value')\n",
    "        \n",
    "    print sharedeno[0],dollardeno[0] #regular expression returns a list\n",
    "\n",
    "\n",
    "    #netrevenue  -cost ofsales = grossmargin \n",
    "    #grossmargin - operating expenses = operating income\n",
    "    #operating expenses = randd + marketing + restructuring + amoritization\n",
    "    #operating income -   gains(losses) on equity investments + iterests and other... = income before taxes\n",
    "    #income before taxes - provision for taxes = net incomde\n",
    "    #netincome/basic shares = basic earnings per share \n",
    "    #netincome/diluted shares = diluted earnings per share of commone stock\n",
    "\n",
    "    netrevenuelist = ['Net sales','Netsales','netsales','Net revenue','netrevenue'] #we will want to keep expanding this list based on how many different variants from different companies                                                               \n",
    "    netincomelist = ['Net income','netincome'] #we will want to keep expanding this list based on how many different variants from different companies         \n",
    "\n",
    "    logger.debug('%s,%s',cola,colb)\n",
    "    for name,value in zip(cola,colb): #looping through both cola and b at the same time .. maybe not efficient time wise and better to use index ??\n",
    "        for entry in netrevenuelist:\n",
    "            if fuzz.ratio(entry,name) > 70:\n",
    "                #TODO Add a check for blank cells\n",
    "                logger.info('%s,%s',name,fuzz.ratio(entry,name))\n",
    "                netrevenue = value\n",
    "                curr.execute ('''INSERT OR IGNORE INTO company (name)\n",
    "            VALUES(?)''',(ticker,))\n",
    "                curr.execute('''SELECT id FROM company WHERE name = ?''', (ticker,))\n",
    "                company_id = curr.fetchone()[0]\n",
    "                curr.execute (''' INSERT OR IGNORE INTO valuetype (name)\n",
    "                    VALUES(?)''',('netrevenue',))\n",
    "                curr.execute('''SELECT id FROM valuetype WHERE name = ?''', ('netrevenue',))\n",
    "                valuetype_id = curr.fetchone()[0]\n",
    "                #denomination table\n",
    "                curr.execute('''INSERT OR IGNORE INTO dollardenomination(denomination)\n",
    "                    VALUES(?)''',(doldeno,))\n",
    "                curr.execute('''SELECT id FROM valuetype WHERE denomination = ?''', (doldeno,))\n",
    "                dollardenomination_id = curr.fetchone()[0] #fetching first column since that is the id that can be used as refernece in main table\n",
    "                \n",
    "                \n",
    "                curr.execute('''INSERT OR IGNORE INTO summary (company_id,valuetype_id,date,dollaramt)\n",
    "        VALUES(?,?,?,?)''', (company_id,valuetype_id,datein,netrevenue))\n",
    "                \n",
    "                break\n",
    "        for entry in netincomelist:\n",
    "            if fuzz.ratio(entry,name) > 70:\n",
    "                #TODO Add a check for blank cells\n",
    "                logger.info('%s,%s',name,fuzz.ratio(entry,name))\n",
    "                netincome = value\n",
    "#              curr.execute ('''INSERT OR IGNORE INTO company (name)\n",
    "#            VALUES(?)''',(ticker,))\n",
    "#                curr.execute (''' INSERT OR IGNORE INTO valuetype (name)\n",
    "#                    VALUES(?)''',('netincome',))\n",
    "                break\n",
    "    print netrevenue,netincome,datein\n",
    "  \n",
    "    conn.commit()\n",
    "    \n",
    "    \n",
    "    return"
   ]
  },
  {
   "cell_type": "code",
   "execution_count": 7,
   "metadata": {
    "collapsed": false
   },
   "outputs": [
    {
     "name": "stdout",
     "output_type": "stream",
     "text": [
      "Enter stock tickeraapl\n",
      "Thousands Millions\n"
     ]
    },
    {
     "ename": "OperationalError",
     "evalue": "no such column: denomination",
     "output_type": "error",
     "traceback": [
      "\u001b[1;31m---------------------------------------------------------------------------\u001b[0m",
      "\u001b[1;31mOperationalError\u001b[0m                          Traceback (most recent call last)",
      "\u001b[1;32m<ipython-input-7-bdd0fe364088>\u001b[0m in \u001b[0;36m<module>\u001b[1;34m()\u001b[0m\n\u001b[0;32m     18\u001b[0m         \u001b[1;31m#print filename,date[0]\u001b[0m\u001b[1;33m\u001b[0m\u001b[1;33m\u001b[0m\u001b[0m\n\u001b[0;32m     19\u001b[0m         \u001b[1;31m#print datelist\u001b[0m\u001b[1;33m\u001b[0m\u001b[1;33m\u001b[0m\u001b[0m\n\u001b[1;32m---> 20\u001b[1;33m         \u001b[0mxlparse\u001b[0m\u001b[1;33m(\u001b[0m\u001b[0mfilepath\u001b[0m\u001b[1;33m,\u001b[0m\u001b[0mfilename\u001b[0m\u001b[1;33m,\u001b[0m\u001b[0mdate\u001b[0m\u001b[1;33m[\u001b[0m\u001b[1;36m0\u001b[0m\u001b[1;33m]\u001b[0m\u001b[1;33m)\u001b[0m\u001b[1;33m\u001b[0m\u001b[0m\n\u001b[0m",
      "\u001b[1;32m<ipython-input-6-bdad328a4b06>\u001b[0m in \u001b[0;36mxlparse\u001b[1;34m(filepath, classname, datein)\u001b[0m\n\u001b[0;32m     57\u001b[0m                 curr.execute('''INSERT OR IGNORE INTO dollardenomination(denomination)\n\u001b[0;32m     58\u001b[0m                     VALUES(?)''',(doldeno,))\n\u001b[1;32m---> 59\u001b[1;33m                 \u001b[0mcurr\u001b[0m\u001b[1;33m.\u001b[0m\u001b[0mexecute\u001b[0m\u001b[1;33m(\u001b[0m\u001b[1;34m'''SELECT id FROM valuetype WHERE denomination = ?'''\u001b[0m\u001b[1;33m,\u001b[0m \u001b[1;33m(\u001b[0m\u001b[0mdoldeno\u001b[0m\u001b[1;33m,\u001b[0m\u001b[1;33m)\u001b[0m\u001b[1;33m)\u001b[0m\u001b[1;33m\u001b[0m\u001b[0m\n\u001b[0m\u001b[0;32m     60\u001b[0m                 \u001b[0mdollardenomination_id\u001b[0m \u001b[1;33m=\u001b[0m \u001b[0mcurr\u001b[0m\u001b[1;33m.\u001b[0m\u001b[0mfetchone\u001b[0m\u001b[1;33m(\u001b[0m\u001b[1;33m)\u001b[0m\u001b[1;33m[\u001b[0m\u001b[1;36m0\u001b[0m\u001b[1;33m]\u001b[0m \u001b[1;31m#fetching first column since that is the id that can be used as refernece in main table\u001b[0m\u001b[1;33m\u001b[0m\u001b[0m\n\u001b[0;32m     61\u001b[0m \u001b[1;33m\u001b[0m\u001b[0m\n",
      "\u001b[1;31mOperationalError\u001b[0m: no such column: denomination"
     ]
    }
   ],
   "source": [
    "ticker = raw_input(\"Enter stock ticker\")\n",
    "classlist = []\n",
    "datelist = []\n",
    "# parse all files and create a class for each one of those with data\n",
    "currentpath = os.getcwd()  #getting current directory of .py script\n",
    "newpath = currentpath + '\\\\Tickers\\\\' + ticker.upper() #planning to create new directory with ticker name in upper case\n",
    "#if os.path.exists(newpath): #check on if path alrerady exists\n",
    "for root,dirs,files in os.walk(newpath): #walk returns  root path, directories and then the file names\n",
    "    for name in files:\n",
    "        #print name\n",
    "        filepath = (os.path.join(root, name))\n",
    "        filename =  name.rstrip('.xls') #removing the .xls extension\n",
    "        date = re.findall(('\\d{4}-\\d{2}-\\d{2}'), filename)\n",
    "        datet = datetime.datetime.strptime(date[0], '%Y-%m-%d')\n",
    "        datelist.append(datet)\n",
    "        logger.debug('%s %s',filepath,filename)\n",
    "#filepath = 'C:\\Users\\Aravind\\Dropbox\\Learning\\Programming\\Python\\Python Fun\\SEC_10k_q\\AAPL_10-K_2015-10-28.xlsx'\n",
    "        #print filename,date[0]\n",
    "        #print datelist\n",
    "        xlparse(filepath,filename,date[0])"
   ]
  },
  {
   "cell_type": "code",
   "execution_count": 25,
   "metadata": {
    "collapsed": false
   },
   "outputs": [
    {
     "ename": "AttributeError",
     "evalue": "'module' object has no attribute 'utcnow'",
     "output_type": "error",
     "traceback": [
      "\u001b[1;31m---------------------------------------------------------------------------\u001b[0m",
      "\u001b[1;31mAttributeError\u001b[0m                            Traceback (most recent call last)",
      "\u001b[1;32m<ipython-input-25-5fac1c7d2d6d>\u001b[0m in \u001b[0;36m<module>\u001b[1;34m()\u001b[0m\n\u001b[1;32m----> 1\u001b[1;33m \u001b[0mdatetime\u001b[0m\u001b[1;33m.\u001b[0m\u001b[0mutcnow\u001b[0m\u001b[1;33m(\u001b[0m\u001b[1;33m)\u001b[0m\u001b[1;33m\u001b[0m\u001b[0m\n\u001b[0m",
      "\u001b[1;31mAttributeError\u001b[0m: 'module' object has no attribute 'utcnow'"
     ]
    }
   ],
   "source": [
    "datetime.utcnow()"
   ]
  },
  {
   "cell_type": "code",
   "execution_count": 27,
   "metadata": {
    "collapsed": true
   },
   "outputs": [],
   "source": [
    "test = '2015-07-22'\n",
    "test1 = \"2016-01-27\"\n"
   ]
  },
  {
   "cell_type": "code",
   "execution_count": 28,
   "metadata": {
    "collapsed": false
   },
   "outputs": [
    {
     "name": "stdout",
     "output_type": "stream",
     "text": [
      "2015-07-22\n"
     ]
    }
   ],
   "source": [
    "print test"
   ]
  },
  {
   "cell_type": "code",
   "execution_count": 29,
   "metadata": {
    "collapsed": false
   },
   "outputs": [
    {
     "data": {
      "text/plain": [
       "datetime.date(2016, 6, 9)"
      ]
     },
     "execution_count": 29,
     "metadata": {},
     "output_type": "execute_result"
    }
   ],
   "source": [
    "datetime.date.today()"
   ]
  },
  {
   "cell_type": "code",
   "execution_count": 30,
   "metadata": {
    "collapsed": false
   },
   "outputs": [],
   "source": [
    "testdate = datetime.datetime.strptime(test, '%Y-%m-%d').date()\n",
    "testdate1 = datetime.datetime.strptime(test1, '%Y-%m-%d').date()"
   ]
  },
  {
   "cell_type": "code",
   "execution_count": 34,
   "metadata": {
    "collapsed": false
   },
   "outputs": [],
   "source": [
    "import matplotlib\n",
    "x = [matplotlib.dates.date2num(testdate),matplotlib.dates.date2num(testdate1)]\n",
    "x\n",
    "y = [49605,75872]\n"
   ]
  },
  {
   "cell_type": "code",
   "execution_count": 45,
   "metadata": {
    "collapsed": false
   },
   "outputs": [
    {
     "data": {
      "text/plain": [
       "[<matplotlib.lines.Line2D at 0x7a3a230>]"
      ]
     },
     "execution_count": 45,
     "metadata": {},
     "output_type": "execute_result"
    },
    {
     "data": {
      "image/png": "[encoded data removed]",
      "text/plain": [
       "<matplotlib.figure.Figure at 0x788e3f0>"
      ]
     },
     "metadata": {},
     "output_type": "display_data"
    }
   ],
   "source": [
    "plt.plot_date(x,y,fmt='bo', tz=None, xdate=True,\n",
    "          ydate=False, ls = 'solid')"
   ]
  },
  {
   "cell_type": "code",
   "execution_count": null,
   "metadata": {
    "collapsed": true
   },
   "outputs": [],
   "source": []
  },
  {
   "cell_type": "code",
   "execution_count": null,
   "metadata": {
    "collapsed": true
   },
   "outputs": [],
   "source": []
  }
 ],
 "metadata": {
  "kernelspec": {
   "display_name": "Python 2",
   "language": "python",
   "name": "python2"
  },
  "language_info": {
   "codemirror_mode": {
    "name": "ipython",
    "version": 2
   },
   "file_extension": ".py",
   "mimetype": "text/x-python",
   "name": "python",
   "nbconvert_exporter": "python",
   "pygments_lexer": "ipython2",
   "version": "2.7.8"
  }
 },
 "nbformat": 4,
 "nbformat_minor": 0
}
